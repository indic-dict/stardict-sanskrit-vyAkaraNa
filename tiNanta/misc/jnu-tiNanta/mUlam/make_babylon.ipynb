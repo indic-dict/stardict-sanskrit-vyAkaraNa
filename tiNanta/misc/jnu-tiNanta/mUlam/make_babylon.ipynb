{
 "metadata": {
  "name": ""
 },
 "nbformat": 3,
 "nbformat_minor": 0,
 "worksheets": [
  {
   "cells": [
    {
     "cell_type": "code",
     "collapsed": false,
     "input": [
      "# -*- coding: utf-8 -*-\n",
      "from __future__ import unicode_literals\n",
      "import unicodedata\n",
      "import regex\n",
      "import re\n",
      "import sys\n",
      "reload(sys)\n",
      "sys.setdefaultencoding(\"utf-8\")\n",
      "\n",
      "HOME = \"/home/vvasuki/\"\n",
      "# print HOME\n",
      "f = open(HOME + '/stardict-sanskrit/sa-head/jnu-tiNanta/mUlam/jnu-tiNanta-values.txt', 'r')\n",
      "lines = f.readlines()\n",
      "for line in lines:\n",
      "    matches = regex.findall(r\"( .+ )\", line, flags=re.UNICODE, overlapped=True)\n",
      "    print matches\n",
      "    for match in matches:\n",
      "        print match \n",
      "    #print u'|'.join(headwords) + \"\\n\" + line + \"\\n\"\n",
      "    break\n"
     ],
     "language": "python",
     "metadata": {},
     "outputs": [],
     "prompt_number": 3
    },
    {
     "cell_type": "code",
     "collapsed": false,
     "input": [],
     "language": "python",
     "metadata": {},
     "outputs": []
    }
   ],
   "metadata": {}
  }
 ]
}